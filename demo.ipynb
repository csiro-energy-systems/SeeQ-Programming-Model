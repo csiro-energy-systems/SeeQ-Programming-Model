{
 "cells": [
  {
   "cell_type": "code",
   "execution_count": 1,
   "metadata": {},
   "outputs": [],
   "source": [
    "from SeeQ import *"
   ]
  },
  {
   "cell_type": "markdown",
   "metadata": {},
   "source": [
    "# CQ Specification"
   ]
  },
  {
   "cell_type": "code",
   "execution_count": 2,
   "metadata": {},
   "outputs": [],
   "source": [
    "# Here we specify our Computationa Quantities: The physical abstract quantities that we need to calculate as part of an application.\n",
    "\n",
    "AHU_Tma = CQ(description=\"Mixed Air Temperature in the AHU\",\n",
    "             unit=UNIT.DEG_C,\n",
    "             implementation=[\n",
    "                    GraphCQ(0, [BRICK.AHU, BRICK.hasPoint, BRICK.Mixed_Air_Temperature_Sensor]),\n",
    "                    GraphCQ(1, [BRICK.AHU, BRICK.hasPart, BRICK.Mixed_Damper, BRICK.hasPoint, BRICK.Mixed_Air_Temperature_Sensor]),\n",
    "                    GraphCQ(1, [BRICK.AHU, BRICK.feeds, BRICK.Zone, BRICK.hasPoint, BRICK.Mixed_Air_Temperature_Sensor])\n",
    "                    ]\n",
    "             )\n",
    "\n",
    "AHU_Tsa = CQ(description=\"Supply Air Temperature in the AHU\",\n",
    "             unit=UNIT.DEG_C,\n",
    "             implementation=[\n",
    "                    GraphCQ(0, [BRICK.AHU, BRICK.hasPoint, BRICK.Supply_Air_Temperature_Sensor]),\n",
    "                    GraphCQ(1, [BRICK.AHU, BRICK.hasPart, BRICK.Fan, BRICK.hasPoint, BRICK.Supply_Air_Temperature_Sensor]),\n",
    "                    GraphCQ(1, [BRICK.AHU, BRICK.hasPart, BRICK.Economizer, BRICK.hasPoint, BRICK.Supply_Air_Temperature_Sensor]),\n",
    "                    GraphCQ(1, [BRICK.AHU, BRICK.feeds, BRICK.Zone, BRICK.hasPoint, BRICK.Supply_Air_Temperature_Sensor])\n",
    "                    ]\n",
    "             )\n",
    "\n",
    "Epsilon_t = CQ(description = \"Temperature threshold\", \n",
    "               unit=UNIT.UNITLESS, \n",
    "               implementation=[\n",
    "                   DefaultCQ(2.33)\n",
    "                   ]\n",
    "               ) \n",
    "\n",
    "DelTsf = CQ(description = \"Change in temperature across supply fan\", \n",
    "            unit=UNIT.DEG_C, \n",
    "            implementation=[\n",
    "                DefaultCQ(1.11)\n",
    "                ]\n",
    "            ) "
   ]
  },
  {
   "cell_type": "code",
   "execution_count": 6,
   "metadata": {},
   "outputs": [
    {
     "data": {
      "text/plain": [
       "<Graph identifier=Na841fa4f66964436bac23c442ef7974e (<class 'rdflib.graph.Graph'>)>"
      ]
     },
     "execution_count": 6,
     "metadata": {},
     "output_type": "execute_result"
    }
   ],
   "source": [
    "# Check the shape generated\n",
    "AHU_Tma.implementation[1].shape.serialize(\"shape1.ttl\")"
   ]
  },
  {
   "cell_type": "markdown",
   "metadata": {},
   "source": [
    "# Application Authoring reusing CQs"
   ]
  },
  {
   "cell_type": "code",
   "execution_count": 3,
   "metadata": {},
   "outputs": [],
   "source": [
    "\n",
    "### Application Authoring APAR Rule 1 ###\n",
    "\n",
    "# pass in CQs as default arguments. The resolved function will\n",
    "# have the parameters replaced with the actual resolved values\n",
    "def rule1(g, sat=AHU_Tsa, mat=AHU_Tma):\n",
    "    print(g.cbd(sat).serialize())\n",
    "    print(f'run rule1 with {sat=}, {mat=}')\n",
    "    #return mat < sat \n"
   ]
  },
  {
   "cell_type": "code",
   "execution_count": 4,
   "metadata": {},
   "outputs": [
    {
     "name": "stdout",
     "output_type": "stream",
     "text": [
      "CQs for rule1 are:\n",
      "sat => CQ(description='Supply_Air_Temperature_in_the_AHU', unit=rdflib.term.URIRef('http://qudt.org/vocab/unit#DEG_C'), implementation=[GraphCQ(description='AHU_hasPoint_Supply_Air_Temperature_Sensor'), GraphCQ(description='AHU_hasPart_Fan_hasPoint_Supply_Air_Temperature_Sensor'), GraphCQ(description='AHU_hasPart_Economizer_hasPoint_Supply_Air_Temperature_Sensor'), GraphCQ(description='AHU_feeds_Zone_hasPoint_Supply_Air_Temperature_Sensor')])\n",
      "mat => CQ(description='Mixed_Air_Temperature_in_the_AHU', unit=rdflib.term.URIRef('http://qudt.org/vocab/unit#DEG_C'), implementation=[GraphCQ(description='AHU_hasPoint_Mixed_Air_Temperature_Sensor'), GraphCQ(description='AHU_hasPart_Mixed_Damper_hasPoint_Mixed_Air_Temperature_Sensor'), GraphCQ(description='AHU_feeds_Zone_hasPoint_Mixed_Air_Temperature_Sensor')])\n",
      "--------------------------------------------------\n"
     ]
    }
   ],
   "source": [
    "print('CQs for',rule1.__name__,'are:')\n",
    "for name, cq in get_cqs(rule1).items():\n",
    "    print(f\"{name} => {cq}\")\n",
    "print('-' * 50)"
   ]
  },
  {
   "cell_type": "code",
   "execution_count": 5,
   "metadata": {},
   "outputs": [
    {
     "name": "stdout",
     "output_type": "stream",
     "text": [
      "CANNOT RUN RULE ON http://openmetrics.eu/openmetrics#AHU_1\n",
      "CANNOT RUN RULE ON http://openmetrics.eu/openmetrics#AHU_4\n",
      "Can run the rule in 3 place(s) in the graph\n",
      "@prefix brick: <https://brickschema.org/schema/Brick#> .\n",
      "\n",
      "<http://openmetrics.eu/openmetrics#SA_TEMP_3> a brick:Supply_Air_Temperature_Sensor .\n",
      "\n",
      "\n",
      "run rule1 with sat=rdflib.term.URIRef('http://openmetrics.eu/openmetrics#SA_TEMP_3'), mat=rdflib.term.URIRef('http://openmetrics.eu/openmetrics#MA_TEMP_3')\n",
      "@prefix brick: <https://brickschema.org/schema/Brick#> .\n",
      "@prefix ns1: <https://brickschema.org/schema/Brick/ref#> .\n",
      "\n",
      "<http://openmetrics.eu/openmetrics#SA_TEMP_2> a brick:Supply_Air_Temperature_Sensor ;\n",
      "    brick:timeseries [ a ns1:TimeseriesReference ;\n",
      "            ns1:hasTimeseriesId \"B_01_EG_RS_EG_04_01_HVAC_VavEx_VavExAirFlRel_Present_Value\" ] .\n",
      "\n",
      "\n",
      "run rule1 with sat=rdflib.term.URIRef('http://openmetrics.eu/openmetrics#SA_TEMP_2'), mat=rdflib.term.URIRef('http://openmetrics.eu/openmetrics#MA_TEMP_2')\n",
      "@prefix brick: <https://brickschema.org/schema/Brick#> .\n",
      "@prefix ns1: <https://brickschema.org/schema/Brick/ref#> .\n",
      "\n",
      "<http://openmetrics.eu/openmetrics#SA_TEMP> a brick:Supply_Air_Temperature_Sensor ;\n",
      "    brick:timeseries [ a ns1:TimeseriesReference ;\n",
      "            ns1:hasTimeseriesId \"B_A_Ahu01_TSu\" ] .\n",
      "\n",
      "\n",
      "run rule1 with sat=rdflib.term.URIRef('http://openmetrics.eu/openmetrics#SA_TEMP'), mat=rdflib.term.URIRef('http://openmetrics.eu/openmetrics#MA_TEMP')\n"
     ]
    }
   ],
   "source": [
    "g = Graph()\n",
    "g.parse(\"test_model.ttl\", format='turtle')\n",
    "g.parse(\"Brick.ttl\", format='turtle')\n",
    "\n",
    "if is_applicable(g, rule1):\n",
    "    # get a list of resolved implementations\n",
    "    resolved: List[Callable] = resolve(g, rule1)\n",
    "    print(f\"Can run the rule in {len(resolved)} place(s) in the graph\")\n",
    "    for fn in resolved:\n",
    "        fn()\n",
    "else:\n",
    "    print(\"cannot run rule1 on the graph!\")\n"
   ]
  }
 ],
 "metadata": {
  "kernelspec": {
   "display_name": "rdf",
   "language": "python",
   "name": "python3"
  },
  "language_info": {
   "codemirror_mode": {
    "name": "ipython",
    "version": 3
   },
   "file_extension": ".py",
   "mimetype": "text/x-python",
   "name": "python",
   "nbconvert_exporter": "python",
   "pygments_lexer": "ipython3",
   "version": "3.8.5"
  },
  "orig_nbformat": 4
 },
 "nbformat": 4,
 "nbformat_minor": 2
}
